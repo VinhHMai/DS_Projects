{
 "cells": [
  {
   "cell_type": "markdown",
   "id": "bfe41be3",
   "metadata": {},
   "source": [
    "Question #1"
   ]
  },
  {
   "cell_type": "code",
   "execution_count": null,
   "id": "627c16e7",
   "metadata": {},
   "outputs": [],
   "source": [
    "/*\n",
    "CoderPad provides a basic SQL sandbox with the following schema.\n",
    "You can also use commands like `show tables` and `desc employees`\n",
    "\n",
    "employees                             projects\n",
    "+---------------+---------+           +---------------+---------+\n",
    "| id            | int     |<----+  +->| id            | int     |\n",
    "| first_name    | varchar |     |  |  | title         | varchar |\n",
    "| last_name     | varchar |     |  |  | start_date    | date    |\n",
    "| salary        | int     |     |  |  | end_date      | date    |\n",
    "| department_id | int     |--+  |  |  | budget        | int     |\n",
    "+---------------+---------+  |  |  |  +---------------+---------+\n",
    "                             |  |  |\n",
    "departments                  |  |  |  employees_projects\n",
    "+---------------+---------+  |  |  |  +---------------+---------+\n",
    "| id            | int     |<-+  |  +--| project_id    | int     |\n",
    "| name          | varchar |     +-----| employee_id   | int     |\n",
    "+---------------+---------+           +---------------+---------+\n",
    "*/\n",
    "\n",
    "\n",
    "SELECT e.first_name, e.last_name, e.salary, d.name\n",
    "FROM employees AS e\n",
    "LEFT JOIN departments AS d\n",
    "WHERE d.id = e.department_id\n",
    "ORDER BY e.salary DESC"
   ]
  },
  {
   "cell_type": "markdown",
   "id": "d0c2cd0c",
   "metadata": {},
   "source": [
    "Question #2"
   ]
  },
  {
   "cell_type": "code",
   "execution_count": null,
   "id": "87ee82b6",
   "metadata": {},
   "outputs": [],
   "source": [
    "# Do the same thing without using a JOIN statement"
   ]
  }
 ],
 "metadata": {
  "kernelspec": {
   "display_name": "Python 3 (ipykernel)",
   "language": "python",
   "name": "python3"
  },
  "language_info": {
   "codemirror_mode": {
    "name": "ipython",
    "version": 3
   },
   "file_extension": ".py",
   "mimetype": "text/x-python",
   "name": "python",
   "nbconvert_exporter": "python",
   "pygments_lexer": "ipython3",
   "version": "3.9.13"
  }
 },
 "nbformat": 4,
 "nbformat_minor": 5
}
