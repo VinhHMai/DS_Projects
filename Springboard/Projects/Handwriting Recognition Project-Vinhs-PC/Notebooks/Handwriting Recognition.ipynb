{
 "cells": [
  {
   "cell_type": "markdown",
   "id": "a46f89a6",
   "metadata": {},
   "source": [
    "Writing code for handwriting recognition involves several steps. Here's a general outline of the process:\n",
    "\n",
    "Data Collection: Gather a dataset of handwritten images and their corresponding labels. You can use publicly available datasets like MNIST, which contains handwritten digits, or create your own dataset by collecting and labeling handwriting samples.\n",
    "\n",
    "Preprocessing: Clean and preprocess the data to make it suitable for training. Common preprocessing steps include resizing the images, normalizing pixel values, applying filters or enhancements, and augmenting the dataset with techniques like rotation, translation, or scaling.\n",
    "\n",
    "Feature Extraction: Extract relevant features from the preprocessed images to capture the essential characteristics of the handwriting. Common techniques include using algorithms like Histogram of Oriented Gradients (HOG) or Scale-Invariant Feature Transform (SIFT) to extract features.\n",
    "\n",
    "Model Selection: Choose an appropriate machine learning or deep learning model for handwriting recognition. Popular models for this task include Convolutional Neural Networks (CNNs) and Recurrent Neural Networks (RNNs) like Long Short-Term Memory (LSTM).\n",
    "\n",
    "Training: Train the selected model using the preprocessed data. Split your dataset into training and validation sets to evaluate the model's performance during training. During training, the model learns to map the input images to their corresponding labels.\n",
    "\n",
    "Evaluation: Assess the performance of your trained model using evaluation metrics like accuracy, precision, recall, or F1 score. Use the validation set to measure the model's performance and fine-tune its parameters or architecture if necessary.\n",
    "\n",
    "Testing: Once you're satisfied with the model's performance, test it on an independent test set to evaluate its generalization ability. This set should contain samples that the model hasn't seen during training or validation.\n",
    "\n",
    "Deployment: Integrate the trained model into a functional application or system where it can take handwritten input and produce recognized text as output. This may involve creating a user interface or connecting the model to other components of the system.\n",
    "\n",
    "It's important to note that implementing handwriting recognition from scratch can be a complex task. You may also consider leveraging existing libraries or frameworks like TensorFlow, Keras, or OpenCV, which provide pre-built solutions and tools for easier development."
   ]
  },
  {
   "cell_type": "markdown",
   "id": "5fe79d28",
   "metadata": {},
   "source": [
    "**Import Labels**"
   ]
  },
  {
   "cell_type": "code",
   "execution_count": 1,
   "id": "3337f4d4",
   "metadata": {},
   "outputs": [],
   "source": [
    "import csv\n",
    "import pandas as pd\n",
    "\n",
    "test_df = {}\n",
    "train_df = {}\n",
    "val_df = {}\n",
    "\n",
    "def import_csv_data(filename, df):\n",
    "    df = pd.read_csv(filename)\n",
    "    return df\n",
    "\n",
    "# Filenames\n",
    "test_csv = r'C:\\Users\\vinhm\\OneDrive\\Documents\\School Documents\\Springboard\\Springboard\\Handwriting Recognition Project\\Data\\written_name_test_v2.csv'\n",
    "train_csv = r'C:\\Users\\vinhm\\OneDrive\\Documents\\School Documents\\Springboard\\Springboard\\Handwriting Recognition Project\\Data\\written_name_train_v2.csv'\n",
    "val_csv = r'C:\\Users\\vinhm\\OneDrive\\Documents\\School Documents\\Springboard\\Springboard\\Handwriting Recognition Project\\Data\\written_name_validation_v2.csv'\n",
    "\n",
    "# Import CSV data into DataFrames\n",
    "test_df = import_csv_data(test_csv, test_df)\n",
    "train_df = import_csv_data(train_csv, train_df)\n",
    "val_df = import_csv_data(val_csv, val_df)\n"
   ]
  },
  {
   "cell_type": "code",
   "execution_count": 2,
   "id": "abfbff2b",
   "metadata": {},
   "outputs": [
    {
     "data": {
      "text/html": [
       "<div>\n",
       "<style scoped>\n",
       "    .dataframe tbody tr th:only-of-type {\n",
       "        vertical-align: middle;\n",
       "    }\n",
       "\n",
       "    .dataframe tbody tr th {\n",
       "        vertical-align: top;\n",
       "    }\n",
       "\n",
       "    .dataframe thead th {\n",
       "        text-align: right;\n",
       "    }\n",
       "</style>\n",
       "<table border=\"1\" class=\"dataframe\">\n",
       "  <thead>\n",
       "    <tr style=\"text-align: right;\">\n",
       "      <th></th>\n",
       "      <th>FILENAME</th>\n",
       "      <th>IDENTITY</th>\n",
       "    </tr>\n",
       "  </thead>\n",
       "  <tbody>\n",
       "    <tr>\n",
       "      <th>0</th>\n",
       "      <td>TEST_0001.jpg</td>\n",
       "      <td>KEVIN</td>\n",
       "    </tr>\n",
       "    <tr>\n",
       "      <th>1</th>\n",
       "      <td>TEST_0002.jpg</td>\n",
       "      <td>CLOTAIRE</td>\n",
       "    </tr>\n",
       "    <tr>\n",
       "      <th>2</th>\n",
       "      <td>TEST_0003.jpg</td>\n",
       "      <td>LENA</td>\n",
       "    </tr>\n",
       "    <tr>\n",
       "      <th>3</th>\n",
       "      <td>TEST_0004.jpg</td>\n",
       "      <td>JULES</td>\n",
       "    </tr>\n",
       "    <tr>\n",
       "      <th>4</th>\n",
       "      <td>TEST_0005.jpg</td>\n",
       "      <td>CHERPIN</td>\n",
       "    </tr>\n",
       "  </tbody>\n",
       "</table>\n",
       "</div>"
      ],
      "text/plain": [
       "        FILENAME  IDENTITY\n",
       "0  TEST_0001.jpg     KEVIN\n",
       "1  TEST_0002.jpg  CLOTAIRE\n",
       "2  TEST_0003.jpg      LENA\n",
       "3  TEST_0004.jpg     JULES\n",
       "4  TEST_0005.jpg   CHERPIN"
      ]
     },
     "execution_count": 2,
     "metadata": {},
     "output_type": "execute_result"
    }
   ],
   "source": [
    "test_df.head()"
   ]
  },
  {
   "cell_type": "code",
   "execution_count": 3,
   "id": "81bc2dce",
   "metadata": {},
   "outputs": [
    {
     "data": {
      "text/html": [
       "<div>\n",
       "<style scoped>\n",
       "    .dataframe tbody tr th:only-of-type {\n",
       "        vertical-align: middle;\n",
       "    }\n",
       "\n",
       "    .dataframe tbody tr th {\n",
       "        vertical-align: top;\n",
       "    }\n",
       "\n",
       "    .dataframe thead th {\n",
       "        text-align: right;\n",
       "    }\n",
       "</style>\n",
       "<table border=\"1\" class=\"dataframe\">\n",
       "  <thead>\n",
       "    <tr style=\"text-align: right;\">\n",
       "      <th></th>\n",
       "      <th>FILENAME</th>\n",
       "      <th>IDENTITY</th>\n",
       "    </tr>\n",
       "  </thead>\n",
       "  <tbody>\n",
       "    <tr>\n",
       "      <th>0</th>\n",
       "      <td>TRAIN_00001.jpg</td>\n",
       "      <td>BALTHAZAR</td>\n",
       "    </tr>\n",
       "    <tr>\n",
       "      <th>1</th>\n",
       "      <td>TRAIN_00002.jpg</td>\n",
       "      <td>SIMON</td>\n",
       "    </tr>\n",
       "    <tr>\n",
       "      <th>2</th>\n",
       "      <td>TRAIN_00003.jpg</td>\n",
       "      <td>BENES</td>\n",
       "    </tr>\n",
       "    <tr>\n",
       "      <th>3</th>\n",
       "      <td>TRAIN_00004.jpg</td>\n",
       "      <td>LA LOVE</td>\n",
       "    </tr>\n",
       "    <tr>\n",
       "      <th>4</th>\n",
       "      <td>TRAIN_00005.jpg</td>\n",
       "      <td>DAPHNE</td>\n",
       "    </tr>\n",
       "  </tbody>\n",
       "</table>\n",
       "</div>"
      ],
      "text/plain": [
       "          FILENAME   IDENTITY\n",
       "0  TRAIN_00001.jpg  BALTHAZAR\n",
       "1  TRAIN_00002.jpg      SIMON\n",
       "2  TRAIN_00003.jpg      BENES\n",
       "3  TRAIN_00004.jpg    LA LOVE\n",
       "4  TRAIN_00005.jpg     DAPHNE"
      ]
     },
     "execution_count": 3,
     "metadata": {},
     "output_type": "execute_result"
    }
   ],
   "source": [
    "train_df.head()"
   ]
  },
  {
   "cell_type": "code",
   "execution_count": 4,
   "id": "85b642b6",
   "metadata": {},
   "outputs": [
    {
     "data": {
      "text/html": [
       "<div>\n",
       "<style scoped>\n",
       "    .dataframe tbody tr th:only-of-type {\n",
       "        vertical-align: middle;\n",
       "    }\n",
       "\n",
       "    .dataframe tbody tr th {\n",
       "        vertical-align: top;\n",
       "    }\n",
       "\n",
       "    .dataframe thead th {\n",
       "        text-align: right;\n",
       "    }\n",
       "</style>\n",
       "<table border=\"1\" class=\"dataframe\">\n",
       "  <thead>\n",
       "    <tr style=\"text-align: right;\">\n",
       "      <th></th>\n",
       "      <th>FILENAME</th>\n",
       "      <th>IDENTITY</th>\n",
       "    </tr>\n",
       "  </thead>\n",
       "  <tbody>\n",
       "    <tr>\n",
       "      <th>0</th>\n",
       "      <td>VALIDATION_0001.jpg</td>\n",
       "      <td>BILEL</td>\n",
       "    </tr>\n",
       "    <tr>\n",
       "      <th>1</th>\n",
       "      <td>VALIDATION_0002.jpg</td>\n",
       "      <td>LAUMIONIER</td>\n",
       "    </tr>\n",
       "    <tr>\n",
       "      <th>2</th>\n",
       "      <td>VALIDATION_0003.jpg</td>\n",
       "      <td>LEA</td>\n",
       "    </tr>\n",
       "    <tr>\n",
       "      <th>3</th>\n",
       "      <td>VALIDATION_0004.jpg</td>\n",
       "      <td>JEAN-ROCH</td>\n",
       "    </tr>\n",
       "    <tr>\n",
       "      <th>4</th>\n",
       "      <td>VALIDATION_0005.jpg</td>\n",
       "      <td>RUPP</td>\n",
       "    </tr>\n",
       "  </tbody>\n",
       "</table>\n",
       "</div>"
      ],
      "text/plain": [
       "              FILENAME    IDENTITY\n",
       "0  VALIDATION_0001.jpg       BILEL\n",
       "1  VALIDATION_0002.jpg  LAUMIONIER\n",
       "2  VALIDATION_0003.jpg         LEA\n",
       "3  VALIDATION_0004.jpg   JEAN-ROCH\n",
       "4  VALIDATION_0005.jpg        RUPP"
      ]
     },
     "execution_count": 4,
     "metadata": {},
     "output_type": "execute_result"
    }
   ],
   "source": [
    "val_df.head()"
   ]
  }
 ],
 "metadata": {
  "kernelspec": {
   "display_name": "Python 3 (ipykernel)",
   "language": "python",
   "name": "python3"
  },
  "language_info": {
   "codemirror_mode": {
    "name": "ipython",
    "version": 3
   },
   "file_extension": ".py",
   "mimetype": "text/x-python",
   "name": "python",
   "nbconvert_exporter": "python",
   "pygments_lexer": "ipython3",
   "version": "3.9.12"
  }
 },
 "nbformat": 4,
 "nbformat_minor": 5
}
