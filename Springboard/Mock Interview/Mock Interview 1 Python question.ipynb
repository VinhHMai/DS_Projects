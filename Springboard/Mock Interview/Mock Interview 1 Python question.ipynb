{
 "cells": [
  {
   "cell_type": "markdown",
   "id": "e116d0ba",
   "metadata": {},
   "source": [
    "Question #1"
   ]
  },
  {
   "cell_type": "code",
   "execution_count": 1,
   "id": "186fd2f0",
   "metadata": {},
   "outputs": [
    {
     "name": "stdout",
     "output_type": "stream",
     "text": [
      "[{'Name': ['John', 'Sally', 'Tim']}, {'Id': [123, 456, 789]}, {'Department': ['Marketing', 'Sales', 'Data']}]\n",
      "['Tim', 'Sally', 'John']\n",
      "[789, 456, 123]\n",
      "['Sales', 'Marketing', 'Data']\n"
     ]
    }
   ],
   "source": [
    "#create a list of dictionaries to hold the below dataset:\n",
    "#\n",
    "#Name        id         department\n",
    "#John        123         Marketing\n",
    "#Sally       456         sales\n",
    "#Tim         789         Data\n",
    "#\n",
    "#Print the sorted dictionary by value in descending order\n",
    "list_dict = [{\"Name\":[\"John\",\"Sally\",\"Tim\"]},{\"Id\":[123,456,789]},{\"Department\":[\"Marketing\",\"Sales\",\"Data\"]}]\n",
    "\n",
    "print(list_dict)\n",
    "def sort_dict(l_dict):\n",
    "    for l in l_dict:\n",
    "        value_dict = list(l.values())[0]\n",
    "        print(sorted(value_dict, reverse = True))\n",
    "        # print(value_dict)\n",
    "\n",
    "\n",
    "sort_dict(list_dict)\n"
   ]
  },
  {
   "cell_type": "markdown",
   "id": "51aee18d",
   "metadata": {},
   "source": [
    "Question #2"
   ]
  },
  {
   "cell_type": "code",
   "execution_count": 2,
   "id": "062c85f3",
   "metadata": {},
   "outputs": [],
   "source": [
    "# use list comprehension to write this code in one line:\n",
    "#     for l in l_dict:\n",
    "#         value_dict = list(l.values())[0]\n",
    "#         print(sorted(value_dict, reverse = True))\n",
    "\n",
    "\n"
   ]
  },
  {
   "cell_type": "code",
   "execution_count": 5,
   "id": "a34472c6",
   "metadata": {},
   "outputs": [
    {
     "data": {
      "text/plain": [
       "[['John', 'Sally', 'Tim'], [123, 456, 789], ['Data', 'Marketing', 'Sales']]"
      ]
     },
     "execution_count": 5,
     "metadata": {},
     "output_type": "execute_result"
    }
   ],
   "source": [
    "[sorted(list(l.values())[0], reverse = False) for l in list_dict]"
   ]
  },
  {
   "cell_type": "code",
   "execution_count": null,
   "id": "f4e89f29",
   "metadata": {},
   "outputs": [],
   "source": []
  }
 ],
 "metadata": {
  "kernelspec": {
   "display_name": "Python 3 (ipykernel)",
   "language": "python",
   "name": "python3"
  },
  "language_info": {
   "codemirror_mode": {
    "name": "ipython",
    "version": 3
   },
   "file_extension": ".py",
   "mimetype": "text/x-python",
   "name": "python",
   "nbconvert_exporter": "python",
   "pygments_lexer": "ipython3",
   "version": "3.9.13"
  }
 },
 "nbformat": 4,
 "nbformat_minor": 5
}
